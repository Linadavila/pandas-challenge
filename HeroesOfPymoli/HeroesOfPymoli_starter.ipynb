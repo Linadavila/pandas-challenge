{
 "cells": [
  {
   "cell_type": "markdown",
   "metadata": {},
   "source": [
    "### Note\n",
    "* Instructions have been included for each segment. You do not have to follow them exactly, but they are included to help you think through the steps."
   ]
  },
  {
   "cell_type": "code",
   "execution_count": 2,
   "metadata": {},
   "outputs": [
    {
     "output_type": "execute_result",
     "data": {
      "text/plain": "   Purchase ID             SN  Age Gender  Item ID  \\\n0            0        Lisim78   20   Male      108   \n1            1    Lisovynya38   40   Male      143   \n2            2     Ithergue48   24   Male       92   \n3            3  Chamassasya86   24   Male      100   \n4            4      Iskosia90   23   Male      131   \n\n                                   Item Name  Price  \n0  Extraction, Quickblade Of Trembling Hands   3.53  \n1                          Frenzied Scimitar   1.56  \n2                               Final Critic   4.88  \n3                                Blindscythe   3.27  \n4                                       Fury   1.44  ",
      "text/html": "<div>\n<style scoped>\n    .dataframe tbody tr th:only-of-type {\n        vertical-align: middle;\n    }\n\n    .dataframe tbody tr th {\n        vertical-align: top;\n    }\n\n    .dataframe thead th {\n        text-align: right;\n    }\n</style>\n<table border=\"1\" class=\"dataframe\">\n  <thead>\n    <tr style=\"text-align: right;\">\n      <th></th>\n      <th>Purchase ID</th>\n      <th>SN</th>\n      <th>Age</th>\n      <th>Gender</th>\n      <th>Item ID</th>\n      <th>Item Name</th>\n      <th>Price</th>\n    </tr>\n  </thead>\n  <tbody>\n    <tr>\n      <td>0</td>\n      <td>0</td>\n      <td>Lisim78</td>\n      <td>20</td>\n      <td>Male</td>\n      <td>108</td>\n      <td>Extraction, Quickblade Of Trembling Hands</td>\n      <td>3.53</td>\n    </tr>\n    <tr>\n      <td>1</td>\n      <td>1</td>\n      <td>Lisovynya38</td>\n      <td>40</td>\n      <td>Male</td>\n      <td>143</td>\n      <td>Frenzied Scimitar</td>\n      <td>1.56</td>\n    </tr>\n    <tr>\n      <td>2</td>\n      <td>2</td>\n      <td>Ithergue48</td>\n      <td>24</td>\n      <td>Male</td>\n      <td>92</td>\n      <td>Final Critic</td>\n      <td>4.88</td>\n    </tr>\n    <tr>\n      <td>3</td>\n      <td>3</td>\n      <td>Chamassasya86</td>\n      <td>24</td>\n      <td>Male</td>\n      <td>100</td>\n      <td>Blindscythe</td>\n      <td>3.27</td>\n    </tr>\n    <tr>\n      <td>4</td>\n      <td>4</td>\n      <td>Iskosia90</td>\n      <td>23</td>\n      <td>Male</td>\n      <td>131</td>\n      <td>Fury</td>\n      <td>1.44</td>\n    </tr>\n  </tbody>\n</table>\n</div>"
     },
     "metadata": {},
     "execution_count": 2
    }
   ],
   "source": [
    "# Dependencies and Setup\n",
    "import pandas as pd\n",
    "\n",
    "# File to Load (Remember to Change These)\n",
    "file_to_load = \"./Resources/purchase_data.csv\"\n",
    "\n",
    "# Read Purchasing File and store into Pandas data frame\n",
    "purchase_data = pd.read_csv(file_to_load)\n",
    "purchase_data.head()"
   ]
  },
  {
   "cell_type": "code",
   "execution_count": 4,
   "metadata": {},
   "outputs": [
    {
     "output_type": "execute_result",
     "data": {
      "text/plain": "       Purchase ID         Age     Item ID       Price\ncount   780.000000  780.000000  780.000000  780.000000\nmean    389.500000   22.714103   92.114103    3.050987\nstd     225.310896    6.659444   52.775943    1.169549\nmin       0.000000    7.000000    0.000000    1.000000\n25%     194.750000   20.000000   48.000000    1.980000\n50%     389.500000   22.000000   93.000000    3.150000\n75%     584.250000   25.000000  139.000000    4.080000\nmax     779.000000   45.000000  183.000000    4.990000",
      "text/html": "<div>\n<style scoped>\n    .dataframe tbody tr th:only-of-type {\n        vertical-align: middle;\n    }\n\n    .dataframe tbody tr th {\n        vertical-align: top;\n    }\n\n    .dataframe thead th {\n        text-align: right;\n    }\n</style>\n<table border=\"1\" class=\"dataframe\">\n  <thead>\n    <tr style=\"text-align: right;\">\n      <th></th>\n      <th>Purchase ID</th>\n      <th>Age</th>\n      <th>Item ID</th>\n      <th>Price</th>\n    </tr>\n  </thead>\n  <tbody>\n    <tr>\n      <td>count</td>\n      <td>780.000000</td>\n      <td>780.000000</td>\n      <td>780.000000</td>\n      <td>780.000000</td>\n    </tr>\n    <tr>\n      <td>mean</td>\n      <td>389.500000</td>\n      <td>22.714103</td>\n      <td>92.114103</td>\n      <td>3.050987</td>\n    </tr>\n    <tr>\n      <td>std</td>\n      <td>225.310896</td>\n      <td>6.659444</td>\n      <td>52.775943</td>\n      <td>1.169549</td>\n    </tr>\n    <tr>\n      <td>min</td>\n      <td>0.000000</td>\n      <td>7.000000</td>\n      <td>0.000000</td>\n      <td>1.000000</td>\n    </tr>\n    <tr>\n      <td>25%</td>\n      <td>194.750000</td>\n      <td>20.000000</td>\n      <td>48.000000</td>\n      <td>1.980000</td>\n    </tr>\n    <tr>\n      <td>50%</td>\n      <td>389.500000</td>\n      <td>22.000000</td>\n      <td>93.000000</td>\n      <td>3.150000</td>\n    </tr>\n    <tr>\n      <td>75%</td>\n      <td>584.250000</td>\n      <td>25.000000</td>\n      <td>139.000000</td>\n      <td>4.080000</td>\n    </tr>\n    <tr>\n      <td>max</td>\n      <td>779.000000</td>\n      <td>45.000000</td>\n      <td>183.000000</td>\n      <td>4.990000</td>\n    </tr>\n  </tbody>\n</table>\n</div>"
     },
     "metadata": {},
     "execution_count": 4
    }
   ],
   "source": [
    "purchase_data.describe()"
   ]
  },
  {
   "cell_type": "markdown",
   "metadata": {},
   "source": [
    "## Player Count"
   ]
  },
  {
   "cell_type": "markdown",
   "metadata": {},
   "source": [
    "* Display the total number of players\n"
   ]
  },
  {
   "cell_type": "code",
   "execution_count": 5,
   "metadata": {
    "tags": []
   },
   "outputs": [
    {
     "output_type": "stream",
     "name": "stdout",
     "text": "There are 576 number of players\n"
    }
   ],
   "source": [
    "number_players = purchase_data[\"SN\"].nunique()\n",
    "print(f\"There are\",number_players,\"number of players\")"
   ]
  },
  {
   "cell_type": "markdown",
   "metadata": {},
   "source": [
    "## Purchasing Analysis (Total)"
   ]
  },
  {
   "cell_type": "markdown",
   "metadata": {},
   "source": [
    "* Run basic calculations to obtain number of unique items, average price, etc.\n",
    "\n",
    "\n",
    "* Create a summary data frame to hold the results\n",
    "\n",
    "\n",
    "* Optional: give the displayed data cleaner formatting\n",
    "\n",
    "\n",
    "* Display the summary data frame\n"
   ]
  },
  {
   "cell_type": "code",
   "execution_count": 6,
   "metadata": {
    "scrolled": true,
    "tags": []
   },
   "outputs": [
    {
     "output_type": "execute_result",
     "data": {
      "text/plain": "   Number of unique Items Average Price  Number of Purchases Total Revenue\n0                     183         $3.05                  780     $2,379.77",
      "text/html": "<div>\n<style scoped>\n    .dataframe tbody tr th:only-of-type {\n        vertical-align: middle;\n    }\n\n    .dataframe tbody tr th {\n        vertical-align: top;\n    }\n\n    .dataframe thead th {\n        text-align: right;\n    }\n</style>\n<table border=\"1\" class=\"dataframe\">\n  <thead>\n    <tr style=\"text-align: right;\">\n      <th></th>\n      <th>Number of unique Items</th>\n      <th>Average Price</th>\n      <th>Number of Purchases</th>\n      <th>Total Revenue</th>\n    </tr>\n  </thead>\n  <tbody>\n    <tr>\n      <td>0</td>\n      <td>183</td>\n      <td>$3.05</td>\n      <td>780</td>\n      <td>$2,379.77</td>\n    </tr>\n  </tbody>\n</table>\n</div>"
     },
     "metadata": {},
     "execution_count": 6
    }
   ],
   "source": [
    "unique_items = purchase_data[\"Item ID\"].nunique()\n",
    "avg_price = round(purchase_data[\"Price\"].mean(),2)\n",
    "number_purchases = purchase_data[\"Purchase ID\"].count()\n",
    "total_revenue = round(purchase_data[\"Price\"].sum(),2)\n",
    "\n",
    "summary = [{\"Number of unique Items\": unique_items,\n",
    "            \"Average Price\":'${:,.2f}'.format(avg_price),\n",
    "            \"Number of Purchases\":number_purchases,\n",
    "            \"Total Revenue\":'${:,.2f}'.format(total_revenue)}]\n",
    "purchasing_analysis_df = pd.DataFrame(summary)\n",
    "purchasing_analysis_df"
   ]
  },
  {
   "cell_type": "markdown",
   "metadata": {},
   "source": [
    "## Gender Demographics"
   ]
  },
  {
   "cell_type": "markdown",
   "metadata": {},
   "source": [
    "* Percentage and Count of Male Players\n",
    "\n",
    "\n",
    "* Percentage and Count of Female Players\n",
    "\n",
    "\n",
    "* Percentage and Count of Other / Non-Disclosed\n",
    "\n",
    "\n"
   ]
  },
  {
   "cell_type": "code",
   "execution_count": 7,
   "metadata": {
    "tags": []
   },
   "outputs": [
    {
     "output_type": "execute_result",
     "data": {
      "text/plain": "                       Total users per gender       %\nGender                                               \nMale                                      484  84.03%\nFemale                                     81  14.06%\nOther / Non-Disclosed                      11   1.91%",
      "text/html": "<div>\n<style scoped>\n    .dataframe tbody tr th:only-of-type {\n        vertical-align: middle;\n    }\n\n    .dataframe tbody tr th {\n        vertical-align: top;\n    }\n\n    .dataframe thead th {\n        text-align: right;\n    }\n</style>\n<table border=\"1\" class=\"dataframe\">\n  <thead>\n    <tr style=\"text-align: right;\">\n      <th></th>\n      <th>Total users per gender</th>\n      <th>%</th>\n    </tr>\n    <tr>\n      <th>Gender</th>\n      <th></th>\n      <th></th>\n    </tr>\n  </thead>\n  <tbody>\n    <tr>\n      <td>Male</td>\n      <td>484</td>\n      <td>84.03%</td>\n    </tr>\n    <tr>\n      <td>Female</td>\n      <td>81</td>\n      <td>14.06%</td>\n    </tr>\n    <tr>\n      <td>Other / Non-Disclosed</td>\n      <td>11</td>\n      <td>1.91%</td>\n    </tr>\n  </tbody>\n</table>\n</div>"
     },
     "metadata": {},
     "execution_count": 7
    }
   ],
   "source": [
    "demo_group = purchase_data.groupby(\"Gender\")\n",
    "players_per_gender = demo_group[\"SN\"].nunique()\n",
    "percentage_per_gender = players_per_gender/number_players\n",
    "\n",
    "gender_summary = pd.DataFrame({\"Total users per gender\": players_per_gender,\n",
    "                                    \"%\": percentage_per_gender})\n",
    "\n",
    "gender_summary['%'] = gender_summary['%'].map(\"{:,.2%}\".format)\n",
    "\n",
    "gender_summary = gender_summary.sort_values([\"Total users per gender\"], ascending=False)\n",
    "\n",
    "\n",
    "# Reset the index for this DataFrame so \"Assignee\" is a column\n",
    "gender_summary.head()\n"
   ]
  },
  {
   "cell_type": "markdown",
   "metadata": {},
   "source": [
    "\n",
    "## Purchasing Analysis (Gender)"
   ]
  },
  {
   "cell_type": "markdown",
   "metadata": {},
   "source": [
    "* Run basic calculations to obtain purchase count, avg. purchase price, avg. purchase total per person etc. by gender\n",
    "\n",
    "\n",
    "\n",
    "\n",
    "* Create a summary data frame to hold the results\n",
    "\n",
    "\n",
    "* Optional: give the displayed data cleaner formatting\n",
    "\n",
    "\n",
    "* Display the summary data frame"
   ]
  },
  {
   "cell_type": "code",
   "execution_count": 8,
   "metadata": {},
   "outputs": [
    {
     "output_type": "execute_result",
     "data": {
      "text/plain": "                       Purchase Count Avg Purhcase Price Total purchase value  \\\nGender                                                                          \nMale                              652              $3.02            $1,967.64   \nFemale                            113              $3.20              $361.94   \nOther / Non-Disclosed              15              $3.35               $50.19   \n\n                      Avg purchase per person by gender  \nGender                                                   \nMale                                              $4.07  \nFemale                                            $4.47  \nOther / Non-Disclosed                             $4.56  ",
      "text/html": "<div>\n<style scoped>\n    .dataframe tbody tr th:only-of-type {\n        vertical-align: middle;\n    }\n\n    .dataframe tbody tr th {\n        vertical-align: top;\n    }\n\n    .dataframe thead th {\n        text-align: right;\n    }\n</style>\n<table border=\"1\" class=\"dataframe\">\n  <thead>\n    <tr style=\"text-align: right;\">\n      <th></th>\n      <th>Purchase Count</th>\n      <th>Avg Purhcase Price</th>\n      <th>Total purchase value</th>\n      <th>Avg purchase per person by gender</th>\n    </tr>\n    <tr>\n      <th>Gender</th>\n      <th></th>\n      <th></th>\n      <th></th>\n      <th></th>\n    </tr>\n  </thead>\n  <tbody>\n    <tr>\n      <td>Male</td>\n      <td>652</td>\n      <td>$3.02</td>\n      <td>$1,967.64</td>\n      <td>$4.07</td>\n    </tr>\n    <tr>\n      <td>Female</td>\n      <td>113</td>\n      <td>$3.20</td>\n      <td>$361.94</td>\n      <td>$4.47</td>\n    </tr>\n    <tr>\n      <td>Other / Non-Disclosed</td>\n      <td>15</td>\n      <td>$3.35</td>\n      <td>$50.19</td>\n      <td>$4.56</td>\n    </tr>\n  </tbody>\n</table>\n</div>"
     },
     "metadata": {},
     "execution_count": 8
    }
   ],
   "source": [
    "purchase_count = demo_group[\"Purchase ID\"].nunique()\n",
    "average_purchase_price = demo_group[\"Price\"].mean()\n",
    "total_purchase_value = demo_group[\"Price\"].sum()\n",
    "per_person_per_gender = total_purchase_value/players_per_gender\n",
    "\n",
    "purchasing_analytics = pd.DataFrame({\"Purchase Count\":purchase_count,\"Avg Purhcase Price\":average_purchase_price,\"Total purchase value\":total_purchase_value,\"Avg purchase per person by gender\":per_person_per_gender})\n",
    "\n",
    "purchasing_analytics['Avg Purhcase Price'] = purchasing_analytics['Avg Purhcase Price'].map(\"${:,.2f}\".format)\n",
    "purchasing_analytics['Total purchase value'] = purchasing_analytics['Total purchase value'].map(\"${:,.2f}\".format)\n",
    "purchasing_analytics['Avg purchase per person by gender'] = purchasing_analytics['Avg purchase per person by gender'].map(\"${:,.2f}\".format)\n",
    "\n",
    "purchasing_analytics = purchasing_analytics.sort_values([\"Purchase Count\"], ascending=False)\n",
    "\n",
    "# Reset the index for this DataFrame so \"Assignee\" is a column\n",
    "purchasing_analytics.head()"
   ]
  },
  {
   "cell_type": "code",
   "execution_count": null,
   "metadata": {},
   "outputs": [],
   "source": []
  },
  {
   "cell_type": "markdown",
   "metadata": {},
   "source": [
    "## Age Demographics"
   ]
  },
  {
   "cell_type": "markdown",
   "metadata": {},
   "source": [
    "* Establish bins for ages\n",
    "\n",
    "\n",
    "* Categorize the existing players using the age bins. Hint: use pd.cut()\n",
    "\n",
    "\n",
    "* Calculate the numbers and percentages by age group\n",
    "\n",
    "\n",
    "* Create a summary data frame to hold the results\n",
    "\n",
    "\n",
    "* Optional: round the percentage column to two decimal points\n",
    "\n",
    "\n",
    "* Display Age Demographics Table\n"
   ]
  },
  {
   "cell_type": "code",
   "execution_count": 9,
   "metadata": {},
   "outputs": [
    {
     "output_type": "execute_result",
     "data": {
      "text/plain": "   Purchase ID             SN  Age Gender  Item ID  \\\n0            0        Lisim78   20   Male      108   \n1            1    Lisovynya38   40   Male      143   \n2            2     Ithergue48   24   Male       92   \n3            3  Chamassasya86   24   Male      100   \n4            4      Iskosia90   23   Male      131   \n\n                                   Item Name  Price Age Ranges  \n0  Extraction, Quickblade Of Trembling Hands   3.53      20-24  \n1                          Frenzied Scimitar   1.56        40+  \n2                               Final Critic   4.88      20-24  \n3                                Blindscythe   3.27      20-24  \n4                                       Fury   1.44      20-24  ",
      "text/html": "<div>\n<style scoped>\n    .dataframe tbody tr th:only-of-type {\n        vertical-align: middle;\n    }\n\n    .dataframe tbody tr th {\n        vertical-align: top;\n    }\n\n    .dataframe thead th {\n        text-align: right;\n    }\n</style>\n<table border=\"1\" class=\"dataframe\">\n  <thead>\n    <tr style=\"text-align: right;\">\n      <th></th>\n      <th>Purchase ID</th>\n      <th>SN</th>\n      <th>Age</th>\n      <th>Gender</th>\n      <th>Item ID</th>\n      <th>Item Name</th>\n      <th>Price</th>\n      <th>Age Ranges</th>\n    </tr>\n  </thead>\n  <tbody>\n    <tr>\n      <td>0</td>\n      <td>0</td>\n      <td>Lisim78</td>\n      <td>20</td>\n      <td>Male</td>\n      <td>108</td>\n      <td>Extraction, Quickblade Of Trembling Hands</td>\n      <td>3.53</td>\n      <td>20-24</td>\n    </tr>\n    <tr>\n      <td>1</td>\n      <td>1</td>\n      <td>Lisovynya38</td>\n      <td>40</td>\n      <td>Male</td>\n      <td>143</td>\n      <td>Frenzied Scimitar</td>\n      <td>1.56</td>\n      <td>40+</td>\n    </tr>\n    <tr>\n      <td>2</td>\n      <td>2</td>\n      <td>Ithergue48</td>\n      <td>24</td>\n      <td>Male</td>\n      <td>92</td>\n      <td>Final Critic</td>\n      <td>4.88</td>\n      <td>20-24</td>\n    </tr>\n    <tr>\n      <td>3</td>\n      <td>3</td>\n      <td>Chamassasya86</td>\n      <td>24</td>\n      <td>Male</td>\n      <td>100</td>\n      <td>Blindscythe</td>\n      <td>3.27</td>\n      <td>20-24</td>\n    </tr>\n    <tr>\n      <td>4</td>\n      <td>4</td>\n      <td>Iskosia90</td>\n      <td>23</td>\n      <td>Male</td>\n      <td>131</td>\n      <td>Fury</td>\n      <td>1.44</td>\n      <td>20-24</td>\n    </tr>\n  </tbody>\n</table>\n</div>"
     },
     "metadata": {},
     "execution_count": 9
    }
   ],
   "source": [
    "bins = [0,9.99,14.99,19.99,24.99,29.99,34.99,39.99,150]\n",
    "group_labels= [\"<10\",\"10-14\",\"15-19\",\"20-24\",\"25-29\",\"30-34\",\"35-39\",\"40+\"]\n",
    "\n",
    "purchase_data[\"Age Ranges\"] = pd.cut(purchase_data[\"Age\"], bins, labels=group_labels)\n",
    "\n",
    "purchase_data.head()"
   ]
  },
  {
   "cell_type": "markdown",
   "metadata": {},
   "source": [
    "## Purchasing Analysis (Age)"
   ]
  },
  {
   "cell_type": "markdown",
   "metadata": {},
   "source": [
    "* Bin the purchase_data data frame by age\n",
    "\n",
    "\n",
    "* Run basic calculations to obtain purchase count, avg. purchase price, avg. purchase total per person etc. in the table below\n",
    "\n",
    "\n",
    "* Create a summary data frame to hold the results\n",
    "\n",
    "\n",
    "* Optional: give the displayed data cleaner formatting\n",
    "\n",
    "\n",
    "* Display the summary data frame"
   ]
  },
  {
   "cell_type": "code",
   "execution_count": 17,
   "metadata": {},
   "outputs": [
    {
     "output_type": "execute_result",
     "data": {
      "text/plain": "            Purchase Count Avg Purhcase Price Total Purchase Value  \\\nAge Ranges                                                           \n<10                     23              $3.35               $77.13   \n10-14                   28              $2.96               $82.78   \n15-19                  136              $3.04              $412.89   \n20-24                  365              $3.05            $1,114.06   \n25-29                  101              $2.90              $293.00   \n30-34                   73              $2.93              $214.00   \n35-39                   41              $3.60              $147.67   \n40+                     13              $2.94               $38.24   \n\n           Avg purchase per person by age group  \nAge Ranges                                       \n<10                                       $4.54  \n10-14                                     $3.76  \n15-19                                     $3.86  \n20-24                                     $4.32  \n25-29                                     $3.81  \n30-34                                     $4.12  \n35-39                                     $4.76  \n40+                                       $3.19  ",
      "text/html": "<div>\n<style scoped>\n    .dataframe tbody tr th:only-of-type {\n        vertical-align: middle;\n    }\n\n    .dataframe tbody tr th {\n        vertical-align: top;\n    }\n\n    .dataframe thead th {\n        text-align: right;\n    }\n</style>\n<table border=\"1\" class=\"dataframe\">\n  <thead>\n    <tr style=\"text-align: right;\">\n      <th></th>\n      <th>Purchase Count</th>\n      <th>Avg Purhcase Price</th>\n      <th>Total Purchase Value</th>\n      <th>Avg purchase per person by age group</th>\n    </tr>\n    <tr>\n      <th>Age Ranges</th>\n      <th></th>\n      <th></th>\n      <th></th>\n      <th></th>\n    </tr>\n  </thead>\n  <tbody>\n    <tr>\n      <td>&lt;10</td>\n      <td>23</td>\n      <td>$3.35</td>\n      <td>$77.13</td>\n      <td>$4.54</td>\n    </tr>\n    <tr>\n      <td>10-14</td>\n      <td>28</td>\n      <td>$2.96</td>\n      <td>$82.78</td>\n      <td>$3.76</td>\n    </tr>\n    <tr>\n      <td>15-19</td>\n      <td>136</td>\n      <td>$3.04</td>\n      <td>$412.89</td>\n      <td>$3.86</td>\n    </tr>\n    <tr>\n      <td>20-24</td>\n      <td>365</td>\n      <td>$3.05</td>\n      <td>$1,114.06</td>\n      <td>$4.32</td>\n    </tr>\n    <tr>\n      <td>25-29</td>\n      <td>101</td>\n      <td>$2.90</td>\n      <td>$293.00</td>\n      <td>$3.81</td>\n    </tr>\n    <tr>\n      <td>30-34</td>\n      <td>73</td>\n      <td>$2.93</td>\n      <td>$214.00</td>\n      <td>$4.12</td>\n    </tr>\n    <tr>\n      <td>35-39</td>\n      <td>41</td>\n      <td>$3.60</td>\n      <td>$147.67</td>\n      <td>$4.76</td>\n    </tr>\n    <tr>\n      <td>40+</td>\n      <td>13</td>\n      <td>$2.94</td>\n      <td>$38.24</td>\n      <td>$3.19</td>\n    </tr>\n  </tbody>\n</table>\n</div>"
     },
     "metadata": {},
     "execution_count": 17
    }
   ],
   "source": [
    "range_group = purchase_data.groupby(\"Age Ranges\")\n",
    "purchase_by_range = range_group[\"Purchase ID\"].nunique()\n",
    "avg_range_price =  range_group[\"Price\"].mean()\n",
    "total_range_purchase_value = range_group[\"Price\"].sum()\n",
    "player_per_range = range_group[\"SN\"].nunique()\n",
    "total_per_person_per_range = total_range_purchase_value/player_per_range\n",
    "\n",
    "range_summary = pd.DataFrame({\"Purchase Count\": purchase_by_range ,\"Avg Purhcase Price\": avg_range_price ,\"Total Purchase Value\": total_range_purchase_value ,\"Avg purchase per person by age group\": total_per_person_per_range})\n",
    "\n",
    "range_summary['Avg Purhcase Price'] = range_summary['Avg Purhcase Price'].map(\"${:,.2f}\".format)\n",
    "range_summary['Total Purchase Value'] = range_summary['Total Purchase Value'].map(\"${:,.2f}\".format)\n",
    "range_summary['Avg purchase per person by age group'] = range_summary['Avg purchase per person by age group'].map(\"${:,.2f}\".format)\n",
    "\n",
    "# Reset the index for this DataFrame so \"Assignee\" is a column\n",
    "range_summary\n"
   ]
  },
  {
   "cell_type": "markdown",
   "metadata": {},
   "source": [
    "## Top Spenders"
   ]
  },
  {
   "cell_type": "markdown",
   "metadata": {},
   "source": [
    "* Run basic calculations to obtain the results in the table below\n",
    "\n",
    "\n",
    "* Create a summary data frame to hold the results\n",
    "\n",
    "\n",
    "* Sort the total purchase value column in descending order\n",
    "\n",
    "\n",
    "* Optional: give the displayed data cleaner formatting\n",
    "\n",
    "\n",
    "* Display a preview of the summary data frame\n",
    "\n"
   ]
  },
  {
   "cell_type": "code",
   "execution_count": 31,
   "metadata": {},
   "outputs": [
    {
     "output_type": "execute_result",
     "data": {
      "text/plain": "              Purchase Count Total Purchase Value Avg Purhcase Price\nSN                                                                  \nHaillyrgue51               3                $9.50              $3.17\nPhistym51                  2                $9.50              $4.75\nLamil79                    2                $9.29              $4.64\nAina42                     3                $9.22              $3.07\nSaesrideu94                2                $9.18              $4.59",
      "text/html": "<div>\n<style scoped>\n    .dataframe tbody tr th:only-of-type {\n        vertical-align: middle;\n    }\n\n    .dataframe tbody tr th {\n        vertical-align: top;\n    }\n\n    .dataframe thead th {\n        text-align: right;\n    }\n</style>\n<table border=\"1\" class=\"dataframe\">\n  <thead>\n    <tr style=\"text-align: right;\">\n      <th></th>\n      <th>Purchase Count</th>\n      <th>Total Purchase Value</th>\n      <th>Avg Purhcase Price</th>\n    </tr>\n    <tr>\n      <th>SN</th>\n      <th></th>\n      <th></th>\n      <th></th>\n    </tr>\n  </thead>\n  <tbody>\n    <tr>\n      <td>Haillyrgue51</td>\n      <td>3</td>\n      <td>$9.50</td>\n      <td>$3.17</td>\n    </tr>\n    <tr>\n      <td>Phistym51</td>\n      <td>2</td>\n      <td>$9.50</td>\n      <td>$4.75</td>\n    </tr>\n    <tr>\n      <td>Lamil79</td>\n      <td>2</td>\n      <td>$9.29</td>\n      <td>$4.64</td>\n    </tr>\n    <tr>\n      <td>Aina42</td>\n      <td>3</td>\n      <td>$9.22</td>\n      <td>$3.07</td>\n    </tr>\n    <tr>\n      <td>Saesrideu94</td>\n      <td>2</td>\n      <td>$9.18</td>\n      <td>$4.59</td>\n    </tr>\n  </tbody>\n</table>\n</div>"
     },
     "metadata": {},
     "execution_count": 31
    }
   ],
   "source": [
    "top_spender = purchase_data.groupby(\"SN\")\n",
    "purchase_by_buyer = top_spender[\"Purchase ID\"].count()\n",
    "avg_price_per_buyer = top_spender[\"Price\"].mean()\n",
    "total_price_per_buyer = top_spender[\"Price\"].sum()\n",
    "\n",
    "top_summary = pd.DataFrame({\"Purchase Count\": purchase_by_buyer ,\"Total Purchase Value\": total_price_per_buyer, \"Avg Purhcase Price\": avg_price_per_buyer})\n",
    "\n",
    "\n",
    "top_summary['Total Purchase Value'] = top_summary['Total Purchase Value'].map(\"${:,.2f}\".format)\n",
    "top_summary['Avg Purhcase Price'] = top_summary['Avg Purhcase Price'].map(\"${:,.2f}\".format)\n",
    "\n",
    "top_summary = top_summary.sort_values([\"Total Purchase Value\"], ascending=False)\n",
    "\n",
    "top_summary.head(5)\n"
   ]
  },
  {
   "cell_type": "markdown",
   "metadata": {},
   "source": [
    "## Most Popular Items"
   ]
  },
  {
   "cell_type": "markdown",
   "metadata": {},
   "source": [
    "* Retrieve the Item ID, Item Name, and Item Price columns\n",
    "\n",
    "\n",
    "* Group by Item ID and Item Name. Perform calculations to obtain purchase count, item price, and total purchase value\n",
    "\n",
    "\n",
    "* Create a summary data frame to hold the results\n",
    "\n",
    "\n",
    "* Sort the purchase count column in descending order\n",
    "\n",
    "\n",
    "* Optional: give the displayed data cleaner formatting\n",
    "\n",
    "\n",
    "* Display a preview of the summary data frame\n",
    "\n"
   ]
  },
  {
   "cell_type": "code",
   "execution_count": 38,
   "metadata": {},
   "outputs": [
    {
     "output_type": "execute_result",
     "data": {
      "text/plain": "                                                      Purchase Count  \\\nItem ID Item Name                                                      \n178     Oathbreaker, Last Hope of the Breaking Storm              12   \n145     Fiery Glass Crusader                                       9   \n108     Extraction, Quickblade Of Trembling Hands                  9   \n82      Nirvana                                                    9   \n19      Pursuit, Cudgel of Necromancy                              8   \n\n                                                     Item Price  \\\nItem ID Item Name                                                 \n178     Oathbreaker, Last Hope of the Breaking Storm      $4.23   \n145     Fiery Glass Crusader                              $4.58   \n108     Extraction, Quickblade Of Trembling Hands         $3.53   \n82      Nirvana                                           $4.90   \n19      Pursuit, Cudgel of Necromancy                     $1.02   \n\n                                                     Total Purchase Value  \nItem ID Item Name                                                          \n178     Oathbreaker, Last Hope of the Breaking Storm               $50.76  \n145     Fiery Glass Crusader                                       $41.22  \n108     Extraction, Quickblade Of Trembling Hands                  $31.77  \n82      Nirvana                                                    $44.10  \n19      Pursuit, Cudgel of Necromancy                               $8.16  ",
      "text/html": "<div>\n<style scoped>\n    .dataframe tbody tr th:only-of-type {\n        vertical-align: middle;\n    }\n\n    .dataframe tbody tr th {\n        vertical-align: top;\n    }\n\n    .dataframe thead th {\n        text-align: right;\n    }\n</style>\n<table border=\"1\" class=\"dataframe\">\n  <thead>\n    <tr style=\"text-align: right;\">\n      <th></th>\n      <th></th>\n      <th>Purchase Count</th>\n      <th>Item Price</th>\n      <th>Total Purchase Value</th>\n    </tr>\n    <tr>\n      <th>Item ID</th>\n      <th>Item Name</th>\n      <th></th>\n      <th></th>\n      <th></th>\n    </tr>\n  </thead>\n  <tbody>\n    <tr>\n      <td>178</td>\n      <td>Oathbreaker, Last Hope of the Breaking Storm</td>\n      <td>12</td>\n      <td>$4.23</td>\n      <td>$50.76</td>\n    </tr>\n    <tr>\n      <td>145</td>\n      <td>Fiery Glass Crusader</td>\n      <td>9</td>\n      <td>$4.58</td>\n      <td>$41.22</td>\n    </tr>\n    <tr>\n      <td>108</td>\n      <td>Extraction, Quickblade Of Trembling Hands</td>\n      <td>9</td>\n      <td>$3.53</td>\n      <td>$31.77</td>\n    </tr>\n    <tr>\n      <td>82</td>\n      <td>Nirvana</td>\n      <td>9</td>\n      <td>$4.90</td>\n      <td>$44.10</td>\n    </tr>\n    <tr>\n      <td>19</td>\n      <td>Pursuit, Cudgel of Necromancy</td>\n      <td>8</td>\n      <td>$1.02</td>\n      <td>$8.16</td>\n    </tr>\n  </tbody>\n</table>\n</div>"
     },
     "metadata": {},
     "execution_count": 38
    }
   ],
   "source": [
    "popular_items = purchase_data.groupby([\"Item ID\", \"Item Name\"])\n",
    "popular_count = popular_items[\"Item Name\"].count()\n",
    "popular_total_price = popular_items[\"Price\"].sum()\n",
    "popular_item_price = popular_items[\"Price\"].mean()\n",
    "\n",
    "\n",
    "popular_summary = pd.DataFrame({\"Purchase Count\": popular_count ,\"Item Price\": popular_item_price , \"Total Purchase Value\": popular_total_price})\n",
    "\n",
    "popular_summary['Total Purchase Value'] = popular_summary['Total Purchase Value'].map(\"${:,.2f}\".format)\n",
    "popular_summary['Item Price'] = popular_summary['Item Price'].map(\"${:,.2f}\".format)\n",
    "\n",
    "\n",
    "popular_summary = popular_summary.sort_values([\"Purchase Count\"], ascending=False)\n",
    "\n",
    "popular_summary.head(5)\n"
   ]
  },
  {
   "cell_type": "markdown",
   "metadata": {},
   "source": [
    "## Most Profitable Items"
   ]
  },
  {
   "cell_type": "markdown",
   "metadata": {},
   "source": [
    "* Sort the above table by total purchase value in descending order\n",
    "\n",
    "\n",
    "* Optional: give the displayed data cleaner formatting\n",
    "\n",
    "\n",
    "* Display a preview of the data frame\n",
    "\n"
   ]
  },
  {
   "cell_type": "code",
   "execution_count": 39,
   "metadata": {
    "scrolled": true
   },
   "outputs": [
    {
     "output_type": "execute_result",
     "data": {
      "text/plain": "                                           Purchase Count Item Price  \\\nItem ID Item Name                                                      \n63      Stormfury Mace                                  2      $4.99   \n29      Chaos, Ender of the End                         5      $1.98   \n173     Stormfury Longsword                             2      $4.93   \n1       Crucifer                                        3      $3.26   \n38      The Void, Vengeance of Dark Magic               4      $2.37   \n\n                                          Total Purchase Value  \nItem ID Item Name                                               \n63      Stormfury Mace                                   $9.98  \n29      Chaos, Ender of the End                          $9.90  \n173     Stormfury Longsword                              $9.86  \n1       Crucifer                                         $9.78  \n38      The Void, Vengeance of Dark Magic                $9.48  ",
      "text/html": "<div>\n<style scoped>\n    .dataframe tbody tr th:only-of-type {\n        vertical-align: middle;\n    }\n\n    .dataframe tbody tr th {\n        vertical-align: top;\n    }\n\n    .dataframe thead th {\n        text-align: right;\n    }\n</style>\n<table border=\"1\" class=\"dataframe\">\n  <thead>\n    <tr style=\"text-align: right;\">\n      <th></th>\n      <th></th>\n      <th>Purchase Count</th>\n      <th>Item Price</th>\n      <th>Total Purchase Value</th>\n    </tr>\n    <tr>\n      <th>Item ID</th>\n      <th>Item Name</th>\n      <th></th>\n      <th></th>\n      <th></th>\n    </tr>\n  </thead>\n  <tbody>\n    <tr>\n      <td>63</td>\n      <td>Stormfury Mace</td>\n      <td>2</td>\n      <td>$4.99</td>\n      <td>$9.98</td>\n    </tr>\n    <tr>\n      <td>29</td>\n      <td>Chaos, Ender of the End</td>\n      <td>5</td>\n      <td>$1.98</td>\n      <td>$9.90</td>\n    </tr>\n    <tr>\n      <td>173</td>\n      <td>Stormfury Longsword</td>\n      <td>2</td>\n      <td>$4.93</td>\n      <td>$9.86</td>\n    </tr>\n    <tr>\n      <td>1</td>\n      <td>Crucifer</td>\n      <td>3</td>\n      <td>$3.26</td>\n      <td>$9.78</td>\n    </tr>\n    <tr>\n      <td>38</td>\n      <td>The Void, Vengeance of Dark Magic</td>\n      <td>4</td>\n      <td>$2.37</td>\n      <td>$9.48</td>\n    </tr>\n  </tbody>\n</table>\n</div>"
     },
     "metadata": {},
     "execution_count": 39
    }
   ],
   "source": [
    "top_profitables = popular_summary.sort_values([\"Total Purchase Value\"], ascending=False)\n",
    "\n",
    "top_profitables.head(5)"
   ]
  },
  {
   "cell_type": "code",
   "execution_count": null,
   "metadata": {},
   "outputs": [],
   "source": []
  }
 ],
 "metadata": {
  "anaconda-cloud": {},
  "kernel_info": {
   "name": "python3"
  },
  "kernelspec": {
   "display_name": "Python 3",
   "language": "python",
   "name": "python3"
  },
  "language_info": {
   "codemirror_mode": {
    "name": "ipython",
    "version": 3
   },
   "file_extension": ".py",
   "mimetype": "text/x-python",
   "name": "python",
   "nbconvert_exporter": "python",
   "pygments_lexer": "ipython3",
   "version": "3.7.4-final"
  },
  "latex_envs": {
   "LaTeX_envs_menu_present": true,
   "autoclose": false,
   "autocomplete": true,
   "bibliofile": "biblio.bib",
   "cite_by": "apalike",
   "current_citInitial": 1,
   "eqLabelWithNumbers": true,
   "eqNumInitial": 1,
   "hotkeys": {
    "equation": "Ctrl-E",
    "itemize": "Ctrl-I"
   },
   "labels_anchors": false,
   "latex_user_defs": false,
   "report_style_numbering": false,
   "user_envs_cfg": false
  },
  "nteract": {
   "version": "0.2.0"
  }
 },
 "nbformat": 4,
 "nbformat_minor": 2
}